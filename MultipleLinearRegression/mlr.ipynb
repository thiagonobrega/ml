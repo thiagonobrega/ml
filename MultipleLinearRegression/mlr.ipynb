{
 "cells": [
  {
   "cell_type": "code",
   "execution_count": 1,
   "metadata": {},
   "outputs": [],
   "source": [
    "import numpy as np\n",
    "import pandas as pd\n",
    "import math\n",
    "import time\n",
    "from sklearn.model_selection import train_test_split"
   ]
  },
  {
   "cell_type": "markdown",
   "metadata": {},
   "source": []
  },
  {
   "cell_type": "code",
   "execution_count": 2,
   "metadata": {},
   "outputs": [],
   "source": [
    "rdata = pd.read_csv('sample_treino.csv') #read the data\n",
    "\n",
    "data = rdata.iloc[:,0:len(rdata.columns)-1] # set headers Cálculo1,LPT,P1,IC,Cálculo2,cra \n",
    "data = np.c_[np.ones(len(rdata)),data]      #add extra columns with ones\n",
    "\n",
    "Y = rdata.iloc[:,len(rdata.columns)-1:len(rdata.columns)].values #saving the Y the cra\n",
    "w = np.zeros([1,len(rdata.columns)]) #the variables"
   ]
  },
  {
   "cell_type": "markdown",
   "metadata": {},
   "source": []
  },
  {
   "cell_type": "code",
   "execution_count": 7,
   "metadata": {},
   "outputs": [],
   "source": [
    "data_train, data_test, Y_train, Y_test = train_test_split(data, Y, test_size=0.2, random_state=0)"
   ]
  },
  {
   "cell_type": "markdown",
   "metadata": {},
   "source": [
    "Error function"
   ]
  },
  {
   "cell_type": "markdown",
   "metadata": {},
   "source": [
    "$ MSE(w) = \\frac{1}{N} \\sum_{i=1}^{N} {(X^T \\cdot W - Y_i)^2}$"
   ]
  },
  {
   "cell_type": "code",
   "execution_count": 9,
   "metadata": {},
   "outputs": [],
   "source": [
    "def MSE(X,Y,w):\n",
    "    return np.sum(np.power(((X @ w.T)-Y),2))/len(X)"
   ]
  },
  {
   "cell_type": "code",
   "execution_count": 11,
   "metadata": {},
   "outputs": [
    {
     "data": {
      "text/plain": [
       "55.13513034200704"
      ]
     },
     "execution_count": 11,
     "metadata": {},
     "output_type": "execute_result"
    }
   ],
   "source": [
    "MSE(data_train,Y_train,w)"
   ]
  },
  {
   "cell_type": "markdown",
   "metadata": {},
   "source": [
    "$ w^{t+1} = w^t -2H^t (y-H_w)$"
   ]
  },
  {
   "cell_type": "markdown",
   "metadata": {},
   "source": [
    "$\\nabla RSS(w) = \\nabla [(y - Hw)^T (y - Hw)]$\n",
    "\n",
    "$\\nabla RSS(w) = -2H^T (y - Hw)$"
   ]
  },
  {
   "cell_type": "code",
   "execution_count": 15,
   "metadata": {},
   "outputs": [],
   "source": [
    "def grad_rss(w,X,Y):\n",
    "    return X.T @ ( (X @ w.flatten()) - Y.flatten() )/len(X)"
   ]
  },
  {
   "cell_type": "markdown",
   "metadata": {},
   "source": [
    "$ w^{t+1} = w^t + \\gamma * \\nabla RSS(w) $"
   ]
  },
  {
   "cell_type": "code",
   "execution_count": 16,
   "metadata": {},
   "outputs": [],
   "source": [
    "def step_gradient(w,X,Y,learningRate):\n",
    "    #return w - ((learningRate/len(X)) * np.sum(X * (X @ w.T - Y), axis=0) )\n",
    "    return w - ((learningRate) * grad_rss(w,X,Y) )"
   ]
  },
  {
   "cell_type": "code",
   "execution_count": 17,
   "metadata": {},
   "outputs": [],
   "source": [
    "def gradient_descent_runner(starting_w,X,Y, learning_rate, epsilon):\n",
    "    w = starting_w\n",
    "    grad = epsilon + 1\n",
    "    i = 0\n",
    "    while (np.linalg.norm(grad)>=epsilon):\n",
    "        nw = step_gradient(w, X, Y, learning_rate)\n",
    "        #print('{:.3f}'.format(np.linalg.norm(grad)),np.linalg.norm(grad)>=epsilon)\n",
    "        grad = grad_rss(nw,X, Y,)\n",
    "        if (np.linalg.norm(grad) != np.inf):\n",
    "            w = nw\n",
    "        else:\n",
    "            return w,i\n",
    "        i+= 1\n",
    "    return w,i"
   ]
  },
  {
   "cell_type": "markdown",
   "metadata": {},
   "source": [
    "sss"
   ]
  },
  {
   "cell_type": "code",
   "execution_count": 29,
   "metadata": {},
   "outputs": [
    {
     "name": "stdout",
     "output_type": "stream",
     "text": [
      "Gradiente descendente convergiu com o modelo ([[ 0.72492234  0.08819466  0.09777953  0.19481522  0.46942697 -0.0149916 ]]) em 55995 iterações, com  error = 0.3972166027997065\n",
      "Versão vetorizada rodou em: 2435.608148574829 ms\n"
     ]
    }
   ],
   "source": [
    "tic = time.time()\n",
    "model,i = gradient_descent_runner(w,data_train,Y_train,0.001,0.01)\n",
    "toc = time.time()\n",
    "\n",
    "print(\"Gradiente descendente convergiu com o modelo ({0}) em {1} iterações, com  error = {2}\".format(model,i, MSE(data_train,Y_train,model)))\n",
    "print(\"Versão vetorizada rodou em: \" + str(1000*(toc-tic)) + \" ms\")"
   ]
  },
  {
   "cell_type": "markdown",
   "metadata": {},
   "source": [
    "sdsds"
   ]
  },
  {
   "cell_type": "code",
   "execution_count": 21,
   "metadata": {},
   "outputs": [
    {
     "data": {
      "text/plain": [
       "0.5484769039402049"
      ]
     },
     "execution_count": 21,
     "metadata": {},
     "output_type": "execute_result"
    }
   ],
   "source": [
    "MSE(data_test,Y_test,model)"
   ]
  },
  {
   "cell_type": "markdown",
   "metadata": {},
   "source": [
    "## sklearn version"
   ]
  },
  {
   "cell_type": "code",
   "execution_count": 34,
   "metadata": {},
   "outputs": [
    {
     "name": "stdout",
     "output_type": "stream",
     "text": [
      "Versão vetorizada rodou em: 11.993169784545898 ms\n"
     ]
    },
    {
     "data": {
      "text/plain": [
       "array([[ 0.        ,  0.05880505,  0.0398723 ,  0.19673024,  0.39718294,\n",
       "        -0.02694486]])"
      ]
     },
     "execution_count": 34,
     "metadata": {},
     "output_type": "execute_result"
    }
   ],
   "source": [
    "from sklearn.linear_model import LinearRegression  \n",
    "regressor = LinearRegression()  \n",
    "tic = time.time()\n",
    "regressor.fit(data_train, Y_train)\n",
    "toc = time.time()\n",
    "\n",
    "print(\"Versão vetorizada rodou em: \" + str(1000*(toc-tic)) + \" ms\")\n",
    "regressor.coef_"
   ]
  },
  {
   "cell_type": "code",
   "execution_count": 37,
   "metadata": {},
   "outputs": [],
   "source": [
    "#coeff_df = pd.DataFrame(regressor.coef_, rdata.columns[:-1], columns=['Coefficient'])  \n",
    "#coeff_df  \n",
    "#y_pred = regressor.predict(X_test)\n",
    "Y_pred = regressor.predict(data_test)\n",
    "#df = pd.DataFrame({'Actual': y_test, 'Predicted': y_pred})  \n",
    "#df"
   ]
  },
  {
   "cell_type": "code",
   "execution_count": 39,
   "metadata": {},
   "outputs": [
    {
     "name": "stdout",
     "output_type": "stream",
     "text": [
      "Mean Squared Error: 0.5670409553488172\n"
     ]
    }
   ],
   "source": [
    "from sklearn import metrics \n",
    "print('Mean Squared Error:', metrics.mean_squared_error(Y_test, Y_pred))"
   ]
  },
  {
   "cell_type": "markdown",
   "metadata": {},
   "source": []
  }
 ],
 "metadata": {
  "kernelspec": {
   "display_name": "Python 3",
   "language": "python",
   "name": "python3"
  },
  "language_info": {
   "codemirror_mode": {
    "name": "ipython",
    "version": 3
   },
   "file_extension": ".py",
   "mimetype": "text/x-python",
   "name": "python",
   "nbconvert_exporter": "python",
   "pygments_lexer": "ipython3",
   "version": "3.6.4"
  }
 },
 "nbformat": 4,
 "nbformat_minor": 2
}
