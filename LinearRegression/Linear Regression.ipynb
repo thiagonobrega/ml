{
 "cells": [
  {
   "cell_type": "markdown",
   "metadata": {},
   "source": [
    "#  First Machine Learning Assignment"
   ]
  },
  {
   "cell_type": "markdown",
   "metadata": {},
   "source": [
    "Based on the Linear Regression code from Siraj Raval (https://github.com/llSourcell/linear_regression_live), answer the following  questions: \n",
    "\n",
    "\n",
    "1. Rode o mesmo programa nos dados contendo anos de escolaridade (primeira coluna) versus salário (segunda coluna). Baixe os dados no link: income.csvVisualizar o documento. Esse exemplo foi trabalhado em sala de aula. \n",
    "2. Modifique o código original para imprimir o RSS a cada iteração do gradiente descendente.\n",
    "3. O que acontece com o RSS ao longo das iterações (aumenta ou diminui) se você usar 1000 iterações? Plote o RSS vs número de iterações.\n",
    "4. Teste valores diferentes do número de iterações e learning_rate até que w0 e w1 sejam aproximadamente iguais a -39 e 5 respectivamente. Reporte os valores do número de iterações e learning_rate usados para atingir esses valores.\n",
    "5. O algoritmo do vídeo usa o número de iterações como critério de parada. Mude o algoritmo para considerar um critério de parada que é relacionado ao tamanho do gradiente (como no algoritmo apresentado em sala). Plote o tamanho do gradiente vs número de iterações.\n",
    "6. Ache um valor de tolerância que se aproxime dos valores dos parâmetros do item 4 acima. Que valor foi esse?\n",
    "7. Implemente a forma fechada (equações normais) de calcular os coeficientes de regressão (vide algoritmo nos slides). Compare o tempo de processamento com o gradiente descendente considerando sua solução do item 6.\n",
    "\n",
    "\n",
    "    "
   ]
  },
  {
   "cell_type": "markdown",
   "metadata": {},
   "source": [
    "### 1. Rode o mesmo programa nos dados contendo anos de escolaridade (primeira coluna) versus salário (segunda coluna). Baixe os dados aquiVisualizar o documento. Esse exemplo foi trabalhado em sala de aula. \n",
    "\n",
    "First lets copy the source code from the author github."
   ]
  },
  {
   "cell_type": "code",
   "execution_count": 86,
   "metadata": {},
   "outputs": [],
   "source": [
    "#The optimal values of m and b can be actually calculated with way less effort than doing a linear regression. \n",
    "#this is just to demonstrate gradient descent\n",
    "\n",
    "from numpy import *\n",
    "\n",
    "# y = mx + b\n",
    "# m is slope, b is y-intercept\n",
    "def compute_error_for_line_given_points(b, m, points):\n",
    "    totalError = 0\n",
    "    for i in range(0, len(points)):\n",
    "        x = points[i, 0]\n",
    "        y = points[i, 1]\n",
    "        totalError += (y - (m * x + b)) ** 2\n",
    "    return totalError / float(len(points))\n",
    "\n",
    "def step_gradient(b_current, m_current, points, learningRate):\n",
    "    b_gradient = 0\n",
    "    m_gradient = 0\n",
    "    N = float(len(points))\n",
    "    for i in range(0, len(points)):\n",
    "        x = points[i, 0]\n",
    "        y = points[i, 1]\n",
    "        b_gradient += -(2/N) * (y - ((m_current * x) + b_current))\n",
    "        m_gradient += -(2/N) * x * (y - ((m_current * x) + b_current))\n",
    "    new_b = b_current - (learningRate * b_gradient)\n",
    "    new_m = m_current - (learningRate * m_gradient)\n",
    "    return [new_b, new_m]\n",
    "\n",
    "def gradient_descent_runner(points, starting_b, starting_m, learning_rate, num_iterations):\n",
    "    b = starting_b\n",
    "    m = starting_m\n",
    "    for i in range(num_iterations):\n",
    "        b, m = step_gradient(b, m, array(points), learning_rate)\n",
    "    return [b, m]\n",
    "\n",
    "def run(iterations=1000,lr=0.0001, inputfile=\"./income.csv\", show=True):\n",
    "    points = genfromtxt(inputfile, delimiter=\",\")\n",
    "    learning_rate = lr\n",
    "    initial_b = 0 # initial y-intercept guess\n",
    "    initial_m = 0 # initial slope guess\n",
    "    num_iterations = iterations\n",
    "    if show:\n",
    "        print(\"Starting gradient descent at b = {0}, m = {1}, error = {2}\".format(initial_b, initial_m, compute_error_for_line_given_points(initial_b, initial_m, points)))\n",
    "        print(\"Running...\")\n",
    "    [b, m] = gradient_descent_runner(points, initial_b, initial_m, learning_rate, num_iterations)\n",
    "    if show:\n",
    "        print(\"After {0} iterations b = {1}, m = {2}, error = {3}\".format(num_iterations, b, m, compute_error_for_line_given_points(b, m, points)))\n",
    "    if not show:\n",
    "        return [b,m]\n",
    "\n"
   ]
  },
  {
   "cell_type": "markdown",
   "metadata": {},
   "source": [
    "In order to find the slope (m and b) of the regression equation (*m*x + *b* + error), the algorithm iterate (1000 times) with a learning rate of 1x10^4. As shown in the execution below the algorithm fine b= -0.18 and m = 3 with an error = 103."
   ]
  },
  {
   "cell_type": "code",
   "execution_count": 87,
   "metadata": {},
   "outputs": [
    {
     "name": "stdout",
     "output_type": "stream",
     "text": [
      "Starting gradient descent at b = 0, m = 0, error = 2946.6344970460195\n",
      "Running...\n",
      "After 1000 iterations b = -0.18234255376510086, m = 3.262182267596014, error = 103.39842291729676\n"
     ]
    }
   ],
   "source": [
    "run()"
   ]
  },
  {
   "cell_type": "markdown",
   "metadata": {},
   "source": [
    "#### 2. Modifique o código original para imprimir o RSS a cada iteração do gradiente descendente."
   ]
  },
  {
   "cell_type": "markdown",
   "metadata": {},
   "source": [
    "To print the RSS for all iteration of the linear regression algorithm the method gradient_descent_runner() must be changed to print the error (RSS). "
   ]
  },
  {
   "cell_type": "code",
   "execution_count": 88,
   "metadata": {
    "CodeCell": {
     "cm_config": {
      "lineNumbers": true
     }
    }
   },
   "outputs": [
    {
     "name": "stdout",
     "output_type": "stream",
     "text": [
      "Starting gradient descent at b = 0, m = 0, error = 2946.6344970460195\n",
      "Running...\n",
      "\t\t Iteration 0,RSS  = 2648.2381266261386;\n",
      "\t\t Iteration 1,RSS  = 2381.1735926230144;\n",
      "\t\t Iteration 2,RSS  = 2142.151013653971;\n",
      "\t\t Iteration 3,RSS  = 1928.2259499305476;\n",
      "\t\t Iteration 4,RSS  = 1736.7631314659504;\n",
      "\t\t Iteration 5,RSS  = 1565.4039948653665;\n",
      "\t\t Iteration 6,RSS  = 1412.0376287932477;\n",
      "\t\t Iteration 7,RSS  = 1274.7747702022896;\n",
      "\t\t Iteration 8,RSS  = 1151.924530990372;\n",
      "\t\t Iteration 9,RSS  = 1041.9735683871631;\n",
      "\t\t Iteration 10,RSS  = 943.5674424757678;\n",
      "\t\t Iteration 11,RSS  = 855.4939311975465;\n",
      "\t\t Iteration 12,RSS  = 776.6680973019634;\n",
      "\t\t Iteration 13,RSS  = 706.1189232850785;\n",
      "\t\t Iteration 14,RSS  = 642.9773496759485;\n",
      "\t\t Iteration 15,RSS  = 586.4655693176774;\n",
      "\t\t Iteration 16,RSS  = 535.8874457621318;\n",
      "\t\t Iteration 17,RSS  = 490.61993774500473;\n",
      "\t\t Iteration 18,RSS  = 450.105424101551;\n",
      "\t\t Iteration 19,RSS  = 413.8448345756185;\n",
      "\t\t Iteration 20,RSS  = 381.3915019021827;\n",
      "\t\t Iteration 21,RSS  = 352.34565942878487;\n",
      "\t\t Iteration 22,RSS  = 326.34951649348716;\n",
      "\t\t Iteration 23,RSS  = 303.0828508942081;\n",
      "\t\t Iteration 24,RSS  = 282.2590641541991;\n",
      "\t\t Iteration 25,RSS  = 263.6216509895024;\n",
      "\t\t Iteration 26,RSS  = 246.94103948667004;\n",
      "\t\t Iteration 27,RSS  = 232.01176306571264;\n",
      "\t\t Iteration 28,RSS  = 218.6499293904183;\n",
      "\t\t Iteration 29,RSS  = 206.69095504620364;\n",
      "\t\t Iteration 30,RSS  = 195.9875380795778;\n",
      "\t\t Iteration 31,RSS  = 186.40784342345904;\n",
      "\t\t Iteration 32,RSS  = 177.83387885506545;\n",
      "\t\t Iteration 33,RSS  = 170.16004148022643;\n",
      "\t\t Iteration 34,RSS  = 163.29181683863047;\n",
      "\t\t Iteration 35,RSS  = 157.1446146046226;\n",
      "\t\t Iteration 36,RSS  = 151.64272654085167;\n",
      "\t\t Iteration 37,RSS  = 146.7183938680661;\n",
      "\t\t Iteration 38,RSS  = 142.3109725622303;\n",
      "\t\t Iteration 39,RSS  = 138.36618629647026;\n",
      "\t\t Iteration 40,RSS  = 134.83545782503415;\n",
      "\t\t Iteration 41,RSS  = 131.67531057276102;\n",
      "\t\t Iteration 42,RSS  = 128.84683305839033;\n",
      "\t\t Iteration 43,RSS  = 126.31519955408457;\n",
      "\t\t Iteration 44,RSS  = 124.04924107629077;\n",
      "\t\t Iteration 45,RSS  = 122.02106142309056;\n",
      "\t\t Iteration 46,RSS  = 120.20569352810008;\n",
      "\t\t Iteration 47,RSS  = 118.58079189763411;\n",
      "\t\t Iteration 48,RSS  = 117.12635734234605;\n",
      "\t\t Iteration 49,RSS  = 115.82449061238476;\n",
      "\t\t Iteration 50,RSS  = 114.65917190116292;\n",
      "\t\t Iteration 51,RSS  = 113.6160635015014;\n",
      "\t\t Iteration 52,RSS  = 112.68233318312085;\n",
      "\t\t Iteration 53,RSS  = 111.84649611571463;\n",
      "\t\t Iteration 54,RSS  = 111.09827339029314;\n",
      "\t\t Iteration 55,RSS  = 110.42846539596141;\n",
      "\t\t Iteration 56,RSS  = 109.82883849229098;\n",
      "\t\t Iteration 57,RSS  = 109.29202358123185;\n",
      "\t\t Iteration 58,RSS  = 108.81142532909865;\n",
      "\t\t Iteration 59,RSS  = 108.3811409203603;\n",
      "\t\t Iteration 60,RSS  = 107.99588734238121;\n",
      "\t\t Iteration 61,RSS  = 107.65093630535468;\n",
      "\t\t Iteration 62,RSS  = 107.34205599572293;\n",
      "\t\t Iteration 63,RSS  = 107.06545894556012;\n",
      "\t\t Iteration 64,RSS  = 106.81775537573377;\n",
      "\t\t Iteration 65,RSS  = 106.5959114380925;\n",
      "\t\t Iteration 66,RSS  = 106.39721184227459;\n",
      "\t\t Iteration 67,RSS  = 106.21922640674808;\n",
      "\t\t Iteration 68,RSS  = 106.05978012203282;\n",
      "\t\t Iteration 69,RSS  = 105.91692635732085;\n",
      "\t\t Iteration 70,RSS  = 105.78892288043478;\n",
      "\t\t Iteration 71,RSS  = 105.67421039572018;\n",
      "\t\t Iteration 72,RSS  = 105.57139333548542;\n",
      "\t\t Iteration 73,RSS  = 105.47922266836378;\n",
      "\t\t Iteration 74,RSS  = 105.39658051281955;\n",
      "\t\t Iteration 75,RSS  = 105.32246636625382;\n",
      "\t\t Iteration 76,RSS  = 105.25598478007198;\n",
      "\t\t Iteration 77,RSS  = 105.1963343288839;\n",
      "\t\t Iteration 78,RSS  = 105.14279773795165;\n",
      "\t\t Iteration 79,RSS  = 105.09473304726758;\n",
      "\t\t Iteration 80,RSS  = 105.05156570341485;\n",
      "\t\t Iteration 81,RSS  = 105.01278148179247;\n",
      "\t\t Iteration 82,RSS  = 104.97792015201534;\n",
      "\t\t Iteration 83,RSS  = 104.94656980845521;\n",
      "\t\t Iteration 84,RSS  = 104.91836179608188;\n",
      "\t\t Iteration 85,RSS  = 104.89296616909662;\n",
      "\t\t Iteration 86,RSS  = 104.87008762641582;\n",
      "\t\t Iteration 87,RSS  = 104.84946187393308;\n",
      "\t\t Iteration 88,RSS  = 104.83085236874828;\n",
      "\t\t Iteration 89,RSS  = 104.81404740525696;\n",
      "\t\t Iteration 90,RSS  = 104.79885750720354;\n",
      "\t\t Iteration 91,RSS  = 104.78511309357246;\n",
      "\t\t Iteration 92,RSS  = 104.77266238956356;\n",
      "\t\t Iteration 93,RSS  = 104.76136955691736;\n",
      "\t\t Iteration 94,RSS  = 104.75111302055868;\n",
      "\t\t Iteration 95,RSS  = 104.74178397094501;\n",
      "\t\t Iteration 96,RSS  = 104.73328502366935;\n",
      "\t\t Iteration 97,RSS  = 104.72552901980747;\n",
      "\t\t Iteration 98,RSS  = 104.7184379522294;\n",
      "\t\t Iteration 99,RSS  = 104.71194200464971;\n",
      "\t\t Iteration 901,RSS  = 103.53569000641228;\n",
      "\t\t Iteration 902,RSS  = 103.53428802926774;\n",
      "\t\t Iteration 903,RSS  = 103.53288607879014;\n",
      "\t\t Iteration 904,RSS  = 103.53148415497897;\n",
      "\t\t Iteration 905,RSS  = 103.53008225783378;\n",
      "\t\t Iteration 906,RSS  = 103.5286803873541;\n",
      "\t\t Iteration 907,RSS  = 103.52727854353931;\n",
      "\t\t Iteration 908,RSS  = 103.5258767263891;\n",
      "\t\t Iteration 909,RSS  = 103.52447493590263;\n",
      "\t\t Iteration 910,RSS  = 103.52307317207975;\n",
      "\t\t Iteration 911,RSS  = 103.52167143491975;\n",
      "\t\t Iteration 912,RSS  = 103.52026972442212;\n",
      "\t\t Iteration 913,RSS  = 103.51886804058641;\n",
      "\t\t Iteration 914,RSS  = 103.5174663834122;\n",
      "\t\t Iteration 915,RSS  = 103.5160647528988;\n",
      "\t\t Iteration 916,RSS  = 103.51466314904582;\n",
      "\t\t Iteration 917,RSS  = 103.51326157185264;\n",
      "\t\t Iteration 918,RSS  = 103.51186002131901;\n",
      "\t\t Iteration 919,RSS  = 103.51045849744405;\n",
      "\t\t Iteration 920,RSS  = 103.50905700022761;\n",
      "\t\t Iteration 921,RSS  = 103.50765552966885;\n",
      "\t\t Iteration 922,RSS  = 103.50625408576757;\n",
      "\t\t Iteration 923,RSS  = 103.50485266852318;\n",
      "\t\t Iteration 924,RSS  = 103.50345127793504;\n",
      "\t\t Iteration 925,RSS  = 103.5020499140027;\n",
      "\t\t Iteration 926,RSS  = 103.50064857672568;\n",
      "\t\t Iteration 927,RSS  = 103.49924726610354;\n",
      "\t\t Iteration 928,RSS  = 103.49784598213569;\n",
      "\t\t Iteration 929,RSS  = 103.49644472482153;\n",
      "\t\t Iteration 930,RSS  = 103.4950434941608;\n",
      "\t\t Iteration 931,RSS  = 103.49364229015282;\n",
      "\t\t Iteration 932,RSS  = 103.49224111279709;\n",
      "\t\t Iteration 933,RSS  = 103.49083996209309;\n",
      "\t\t Iteration 934,RSS  = 103.4894388380404;\n",
      "\t\t Iteration 935,RSS  = 103.48803774063849;\n",
      "\t\t Iteration 936,RSS  = 103.48663666988678;\n",
      "\t\t Iteration 937,RSS  = 103.48523562578488;\n",
      "\t\t Iteration 938,RSS  = 103.4838346083321;\n",
      "\t\t Iteration 939,RSS  = 103.48243361752812;\n",
      "\t\t Iteration 940,RSS  = 103.48103265337231;\n",
      "\t\t Iteration 941,RSS  = 103.47963171586433;\n",
      "\t\t Iteration 942,RSS  = 103.4782308050035;\n",
      "\t\t Iteration 943,RSS  = 103.47682992078943;\n",
      "\t\t Iteration 944,RSS  = 103.47542906322147;\n",
      "\t\t Iteration 945,RSS  = 103.47402823229916;\n",
      "\t\t Iteration 946,RSS  = 103.47262742802202;\n",
      "\t\t Iteration 947,RSS  = 103.47122665038965;\n",
      "\t\t Iteration 948,RSS  = 103.46982589940143;\n",
      "\t\t Iteration 949,RSS  = 103.46842517505686;\n",
      "\t\t Iteration 950,RSS  = 103.4670244773554;\n",
      "\t\t Iteration 951,RSS  = 103.46562380629663;\n",
      "\t\t Iteration 952,RSS  = 103.46422316188004;\n",
      "\t\t Iteration 953,RSS  = 103.46282254410501;\n",
      "\t\t Iteration 954,RSS  = 103.46142195297118;\n",
      "\t\t Iteration 955,RSS  = 103.46002138847783;\n",
      "\t\t Iteration 956,RSS  = 103.45862085062468;\n",
      "\t\t Iteration 957,RSS  = 103.4572203394112;\n",
      "\t\t Iteration 958,RSS  = 103.45581985483676;\n",
      "\t\t Iteration 959,RSS  = 103.45441939690085;\n",
      "\t\t Iteration 960,RSS  = 103.45301896560314;\n",
      "\t\t Iteration 961,RSS  = 103.45161856094296;\n",
      "\t\t Iteration 962,RSS  = 103.45021818291973;\n",
      "\t\t Iteration 963,RSS  = 103.44881783153322;\n",
      "\t\t Iteration 964,RSS  = 103.4474175067828;\n",
      "\t\t Iteration 965,RSS  = 103.44601720866785;\n",
      "\t\t Iteration 966,RSS  = 103.44461693718793;\n",
      "\t\t Iteration 967,RSS  = 103.4432166923426;\n",
      "\t\t Iteration 968,RSS  = 103.44181647413127;\n",
      "\t\t Iteration 969,RSS  = 103.44041628255346;\n",
      "\t\t Iteration 970,RSS  = 103.43901611760869;\n",
      "\t\t Iteration 971,RSS  = 103.4376159792964;\n",
      "\t\t Iteration 972,RSS  = 103.43621586761618;\n",
      "\t\t Iteration 973,RSS  = 103.43481578256738;\n",
      "\t\t Iteration 974,RSS  = 103.43341572414967;\n",
      "\t\t Iteration 975,RSS  = 103.43201569236241;\n",
      "\t\t Iteration 976,RSS  = 103.43061568720505;\n",
      "\t\t Iteration 977,RSS  = 103.42921570867725;\n",
      "\t\t Iteration 978,RSS  = 103.42781575677841;\n",
      "\t\t Iteration 979,RSS  = 103.42641583150801;\n",
      "\t\t Iteration 980,RSS  = 103.42501593286552;\n",
      "\t\t Iteration 981,RSS  = 103.42361606085056;\n",
      "\t\t Iteration 982,RSS  = 103.42221621546247;\n",
      "\t\t Iteration 983,RSS  = 103.42081639670091;\n",
      "\t\t Iteration 984,RSS  = 103.41941660456517;\n",
      "\t\t Iteration 985,RSS  = 103.41801683905493;\n",
      "\t\t Iteration 986,RSS  = 103.41661710016952;\n",
      "\t\t Iteration 987,RSS  = 103.41521738790854;\n",
      "\t\t Iteration 988,RSS  = 103.41381770227154;\n",
      "\t\t Iteration 989,RSS  = 103.41241804325789;\n",
      "\t\t Iteration 990,RSS  = 103.41101841086717;\n",
      "\t\t Iteration 991,RSS  = 103.40961880509879;\n",
      "\t\t Iteration 992,RSS  = 103.40821922595227;\n",
      "\t\t Iteration 993,RSS  = 103.40681967342712;\n",
      "\t\t Iteration 994,RSS  = 103.40542014752286;\n",
      "\t\t Iteration 995,RSS  = 103.40402064823897;\n",
      "\t\t Iteration 996,RSS  = 103.40262117557488;\n",
      "\t\t Iteration 997,RSS  = 103.4012217295302;\n",
      "\t\t Iteration 998,RSS  = 103.39982231010434;\n",
      "\t\t Iteration 999,RSS  = 103.39842291729676;\n",
      "After 1000 iterations b = -0.18234255376510086, m = 3.262182267596014, error = 103.39842291729676\n"
     ]
    }
   ],
   "source": [
    "def gradient_descent_runner(points, starting_b, starting_m, learning_rate, num_iterations):\n",
    "    b = starting_b\n",
    "    m = starting_m\n",
    "    \n",
    "    for i in range(num_iterations):\n",
    "        b, m = step_gradient(b, m, array(points), learning_rate)\n",
    "        if i <100 or i > 900:\n",
    "            print(\"\\t\\t Iteration {0},RSS  = {1};\".format(i,compute_error_for_line_given_points(b, m, points)))\n",
    "    return [b, m]\n",
    "\n",
    "run()"
   ]
  },
  {
   "cell_type": "markdown",
   "metadata": {},
   "source": [
    "PS: To reduce the verbosity of the algorithm output, only the first and last 100 values were printed."
   ]
  },
  {
   "cell_type": "markdown",
   "metadata": {},
   "source": [
    "#### 3. O que acontece com o RSS ao longo das iterações (aumenta ou diminui) se você usar 1000 iterações? Plote o RSS vs número de iterações."
   ]
  },
  {
   "cell_type": "code",
   "execution_count": 95,
   "metadata": {},
   "outputs": [
    {
     "data": {
      "image/png": "[encoded data removed]",
      "text/plain": [
       "<Figure size 432x288 with 1 Axes>"
      ]
     },
     "metadata": {},
     "output_type": "display_data"
    }
   ],
   "source": [
    "def gradient_descent_runner(points, starting_b, starting_m, learning_rate, num_iterations):\n",
    "    b = starting_b\n",
    "    m = starting_m\n",
    "    x = []\n",
    "    y = []\n",
    "    for i in range(num_iterations):\n",
    "        b, m = step_gradient(b, m, array(points), learning_rate)\n",
    "        x.append(i+1)\n",
    "        y.append(compute_error_for_line_given_points(b, m, points))\n",
    "    \n",
    "    \n",
    "    import matplotlib.pyplot as plt\n",
    "    plt.style.use('seaborn-whitegrid')\n",
    "    plt.plot(x, y)\n",
    "    plt.title(\"Iterration/RSS\")\n",
    "    plt.xlabel(\"Iteration Number\")\n",
    "    plt.ylabel(\"RSS Value\")\n",
    "    plt.xscale('log')\n",
    "    #plt.yscale('log')\n",
    "    plt.show()\n",
    "    \n",
    "\n",
    "    return [b, m]\n",
    "\n",
    "a=run(show=False)"
   ]
  },
  {
   "cell_type": "markdown",
   "metadata": {},
   "source": [
    "As illustrated in the figure above the RSS value fades rapidly until iteration number 100, and from that iteration, the RSS value decrease in a slow ratio (almost stabilized in 112)."
   ]
  },
  {
   "cell_type": "markdown",
   "metadata": {},
   "source": [
    "#### 4. Teste valores diferentes do número de iterações e learning_rate até que w0 e w1 sejam aproximadamente iguais a -39 e 5 respectivamente. Reporte os valores do número de iterações e learning_rate usados para atingir esses valores."
   ]
  },
  {
   "cell_type": "code",
   "execution_count": 97,
   "metadata": {},
   "outputs": [],
   "source": [
    "def gradient_descent_runner(points, starting_b, starting_m, learning_rate, num_iterations):\n",
    "    b = starting_b\n",
    "    m = starting_m\n",
    "    \n",
    "    for i in range(num_iterations):\n",
    "        b, m = step_gradient(b, m, array(points), learning_rate)\n",
    "\n",
    "    return [b, m]"
   ]
  },
  {
   "cell_type": "code",
   "execution_count": 106,
   "metadata": {},
   "outputs": [
    {
     "name": "stdout",
     "output_type": "stream",
     "text": [
      "Iteration 50000,Learning Rate  = 0.001;\n",
      "\t [w0=-39.10519020198799, w1=5.579179883407752]\n",
      "\n",
      "Iteration 30000,Learning Rate  = 0.002;\n",
      "\t [w0=-39.31453290150513, w1=5.591641626701886]\n",
      "\n",
      "Iteration 50000,Learning Rate  = 0.002;\n",
      "\t [w0=-39.44332337128485, w1=5.599308260297552]\n",
      "\n",
      "Iteration 15000,Learning Rate  = 0.003;\n",
      "\t [w0=-38.897738890893926, w1=5.566830730603052]\n",
      "\n",
      "Iteration 30000,Learning Rate  = 0.003;\n",
      "\t [w0=-39.438666405196905, w1=5.599031040618761]\n",
      "\n",
      "Iteration 50000,Learning Rate  = 0.003;\n",
      "\t [w0=-39.446231462889585, w1=5.599481373050649]\n",
      "\n"
     ]
    }
   ],
   "source": [
    "import warnings\n",
    "warnings.filterwarnings('ignore')\n",
    "#warnings.filterwarnings(action='once')\n",
    "\n",
    "for llr in [0.001,0.002,0.003,0.004,0.005]:\n",
    "    for i in [500,5000,10000,15000,30000,50000]:\n",
    "        ws = run(iterations=i,lr=llr,show=False)\n",
    "        w0,w1 = ws[0],ws[1]\n",
    "        if (w0 >= -39.5 and w0 < -38.8) and (w1 >= 5 and w1 <6):\n",
    "            print(\"Iteration {0},Learning Rate  = {1};\".format(i,llr))\n",
    "            print(\"\\t [w0={0}, w1={1}]\\n\".format(w0,w1))"
   ]
  },
  {
   "cell_type": "markdown",
   "metadata": {},
   "source": []
  },
  {
   "cell_type": "markdown",
   "metadata": {},
   "source": [
    "#### 5. O algoritmo do vídeo usa o número de iterações como critério de parada. Mude o algoritmo para considerar um critério de parada que é relacionado ao tamanho do gradiente (como no algoritmo apresentado em sala). Plote o tamanho do gradiente vs número de iterações."
   ]
  },
  {
   "cell_type": "markdown",
   "metadata": {},
   "source": []
  },
  {
   "cell_type": "code",
   "execution_count": 39,
   "metadata": {},
   "outputs": [],
   "source": [
    "def run(gradient_threshold=0.1,lr=0.0001, inputfile=\"./income.csv\", show=True , plot=True):\n",
    "    points = genfromtxt(inputfile, delimiter=\",\")\n",
    "    learning_rate = lr\n",
    "    initial_b = 0 # initial y-intercept guess\n",
    "    initial_m = 0 # initial slope guess\n",
    "    if show:\n",
    "        print(\"Starting gradient descent at b = {0}, m = {1}, error = {2}\".format(initial_b, initial_m, compute_error_for_line_given_points(initial_b, initial_m, points)))\n",
    "        print(\"Running...\")\n",
    "    [b, m , i] = gradient_descent_runner(points, initial_b, initial_m, learning_rate, gradient_threshold, plot=plot)\n",
    "    if show:\n",
    "        num_iterations = i\n",
    "        print(\"After {0} iterations b = {1}, m = {2}, error = {3}\".format(num_iterations, b, m, compute_error_for_line_given_points(b, m, points)))\n",
    "    if not show:\n",
    "        return [b,m,i]"
   ]
  },
  {
   "cell_type": "markdown",
   "metadata": {},
   "source": []
  },
  {
   "cell_type": "code",
   "execution_count": 40,
   "metadata": {},
   "outputs": [],
   "source": [
    "def step_gradient(b_current, m_current, points, learningRate):\n",
    "    b_gradient = 0\n",
    "    m_gradient = 0\n",
    "    N = float(len(points))\n",
    "    for i in range(0, len(points)):\n",
    "        x = points[i, 0]\n",
    "        y = points[i, 1]\n",
    "        b_gradient += -(2/N) * (y - ((m_current * x) + b_current))\n",
    "        m_gradient += -(2/N) * x * (y - ((m_current * x) + b_current))\n",
    "    new_b = b_current - (learningRate * b_gradient)\n",
    "    new_m = m_current - (learningRate * m_gradient)\n",
    "    return [new_b, new_m, b_gradient, m_gradient]"
   ]
  },
  {
   "cell_type": "code",
   "execution_count": 51,
   "metadata": {},
   "outputs": [
    {
     "name": "stdout",
     "output_type": "stream",
     "text": [
      "Starting gradient descent at b = 0, m = 0, error = 2946.6344970460195\n",
      "Running...\n"
     ]
    },
    {
     "data": {
      "image/png": "[encoded data removed]",
      "text/plain": [
       "<Figure size 432x288 with 1 Axes>"
      ]
     },
     "metadata": {},
     "output_type": "display_data"
    },
    {
     "name": "stdout",
     "output_type": "stream",
     "text": [
      "After 139721 iterations b = -28.950316961307475, m = 4.974681021963283, error = 35.08600903586175\n"
     ]
    }
   ],
   "source": [
    "def gradient_descent_runner(points, starting_b, starting_m, learning_rate, gradient_threshold, plot=False):\n",
    "    b = starting_b\n",
    "    m = starting_m\n",
    "    x = []\n",
    "    y = []\n",
    "    i = 0\n",
    "\n",
    "    gmodulus = 1 + gradient_threshold\n",
    "    \n",
    "    while gmodulus >= gradient_threshold:\n",
    "        b, m , gb , gm = step_gradient(b, m, array(points), learning_rate)\n",
    "        #new modulus\n",
    "        gmodulus = math.sqrt(gb**2 + gm**2)\n",
    "        \n",
    "        #plot part\n",
    "        x.append(i+1)\n",
    "        y.append(gmodulus)\n",
    "        i+=1\n",
    "\n",
    "    \n",
    "    if plot:\n",
    "        import matplotlib.pyplot as plt\n",
    "        plt.style.use('seaborn-whitegrid')\n",
    "        plt.plot(x, y)\n",
    "        #plt.xscale('log')\n",
    "        plt.yscale('log')\n",
    "        plt.xlabel(\"Iteration Number\")\n",
    "        plt.ylabel(\"Gradient Value\")\n",
    "\n",
    "        plt.show()\n",
    "    \n",
    "    \n",
    "    return [b, m ,i]\n",
    "\n",
    "run(gradient_threshold=1)"
   ]
  },
  {
   "cell_type": "markdown",
   "metadata": {},
   "source": [
    "#### 6. Ache um valor de tolerância que se aproxime dos valores dos parâmetros do item 4 acima. Que valor foi esse?"
   ]
  },
  {
   "cell_type": "code",
   "execution_count": 73,
   "metadata": {},
   "outputs": [
    {
     "name": "stdout",
     "output_type": "stream",
     "text": [
      "After 150799 iterations b = -29.999889277337726, m = 5.037159918056469 with modulus threshold = 0.9 (execution time = 14.372795104980469s)\n"
     ]
    }
   ],
   "source": [
    "import time\n",
    "\n",
    "gt = 1\n",
    "w0 = -40\n",
    "w1 = 8\n",
    "\n",
    "\n",
    "start_time = time.time()\n",
    "\n",
    "while (w0 < -38) and (w1 >= 5):\n",
    "    gt = gt-0.1\n",
    "    w0,w1,i = run(gradient_threshold=gt,plot=False,show=False)\n",
    "\n",
    "end_time = time.time()   \n",
    "coeftime = end_time - start_time\n",
    "print(\"After {0} iterations b = {1}, m = {2} with modulus threshold = {3} (execution time = {4}s)\".format(i, w0, w1,gt,coeftime))"
   ]
  },
  {
   "cell_type": "markdown",
   "metadata": {},
   "source": [
    "#### 7. Implemente a forma fechada (equações normais) de calcular os coeficientes de regressão (vide algoritmo nos slides). Compare o tempo de processamento com o gradiente descendente considerando sua solução do item 6.*"
   ]
  },
  {
   "cell_type": "code",
   "execution_count": 78,
   "metadata": {},
   "outputs": [],
   "source": [
    "def nomalEquation(points):\n",
    "    temp_x = 0\n",
    "    temp_y = 0\n",
    "    b = 0\n",
    "    m = 0\n",
    "    N = len(points)\n",
    "    \n",
    "    for i in range(0, N):\n",
    "        x_i = points[i, 0]\n",
    "        y_i = points[i, 1]\n",
    "        temp_x += x_i\n",
    "        temp_y += y_i\n",
    "        \n",
    "    x = temp_x / float(N)\n",
    "    y = temp_y / float(N)\n",
    "    \n",
    "    for i in range(0, N):\n",
    "        xi = points[i, 0]\n",
    "        yi = points[i, 1]\n",
    "        b = b + (x_i - x) * (y_i - y)\n",
    "        m = m + (x_i - x)**2\n",
    "        \n",
    "    w1 = b/m\n",
    "    w0 = y - w1*x\n",
    "    return [w0,w1]"
   ]
  },
  {
   "cell_type": "code",
   "execution_count": 79,
   "metadata": {},
   "outputs": [
    {
     "name": "stdout",
     "output_type": "stream",
     "text": [
      "Running...\n",
      "b = -30.161467210721675, m = 5.019183532346513, error = 34.148888021867066\n"
     ]
    }
   ],
   "source": [
    "def run(inputfile=\"./income.csv\", show=True):\n",
    "    points = genfromtxt(inputfile, delimiter=\",\")\n",
    "    \n",
    "    if show:\n",
    "        print(\"Running...\")\n",
    "        \n",
    "    [b, m] = nomalEquation(points)\n",
    "    \n",
    "    if show:\n",
    "        print(\"b = {0}, m = {1}, error = {2}\".format(b, m, compute_error_for_line_given_points(b, m, points)))\n",
    "    if not show:\n",
    "        return [b,m]\n",
    "run()"
   ]
  },
  {
   "cell_type": "code",
   "execution_count": null,
   "metadata": {},
   "outputs": [],
   "source": []
  }
 ],
 "metadata": {
  "kernelspec": {
   "display_name": "Python 3",
   "language": "python",
   "name": "python3"
  },
  "language_info": {
   "codemirror_mode": {
    "name": "ipython",
    "version": 3
   },
   "file_extension": ".py",
   "mimetype": "text/x-python",
   "name": "python",
   "nbconvert_exporter": "python",
   "pygments_lexer": "ipython3",
   "version": "3.6.4"
  }
 },
 "nbformat": 4,
 "nbformat_minor": 2
}
